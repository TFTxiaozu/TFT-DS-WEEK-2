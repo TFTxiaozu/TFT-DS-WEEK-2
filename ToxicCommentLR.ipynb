{
 "cells": [
  {
   "cell_type": "markdown",
   "metadata": {},
   "source": [
    "### 加载数据"
   ]
  },
  {
   "cell_type": "code",
   "execution_count": 1,
   "metadata": {},
   "outputs": [],
   "source": [
    "import pandas as pd, numpy as np\n",
    "\n",
    "train = pd.read_csv('../Assignment1-3/data/train.csv')\n",
    "test = pd.read_csv('../Assignment1-3/data/test.csv')\n",
    "subm = pd.read_csv('../Assignment1-3/data/sample_submission.csv')\n",
    "\n",
    "trainingdata = train.comment_text\n",
    "labels = ['toxic', 'severe_toxic', 'obscene', 'threat', 'insult', 'identity_hate']\n",
    "\n",
    "test_labels = pd.read_csv('../Assignment1-3/data/test_labels.csv')\n",
    "test_labels_filter = test_labels[test_labels['toxic']>-1]\n",
    "test_filter = test[test.id.isin(test_labels_filter.id)]"
   ]
  },
  {
   "cell_type": "markdown",
   "metadata": {},
   "source": [
    "### 生成TFIDF向量，查看每个类下TFIDF值Top20的词"
   ]
  },
  {
   "cell_type": "code",
   "execution_count": null,
   "metadata": {},
   "outputs": [],
   "source": []
  },
  {
   "cell_type": "markdown",
   "metadata": {},
   "source": [
    "### Logistic Regression Practice\n",
    "\n",
    "（1）在trainingdata上训练Logistic Regression模型并预测结果"
   ]
  },
  {
   "cell_type": "code",
   "execution_count": null,
   "metadata": {},
   "outputs": [],
   "source": []
  },
  {
   "cell_type": "markdown",
   "metadata": {},
   "source": [
    "（2）在test_filter上计算ROC AUC指标"
   ]
  },
  {
   "cell_type": "code",
   "execution_count": null,
   "metadata": {},
   "outputs": [],
   "source": []
  },
  {
   "cell_type": "markdown",
   "metadata": {},
   "source": [
    "（3）分析模型属于High Variance还是High Bias，抑或是二者都有？"
   ]
  },
  {
   "cell_type": "code",
   "execution_count": null,
   "metadata": {},
   "outputs": [],
   "source": []
  },
  {
   "cell_type": "markdown",
   "metadata": {},
   "source": [
    "### K-Fold Practice\n",
    "\n",
    "对trainingdata做5折交叉验证，计算training的平均ROC AUC指标、dev的平均ROC AUC指标"
   ]
  },
  {
   "cell_type": "code",
   "execution_count": null,
   "metadata": {},
   "outputs": [],
   "source": []
  },
  {
   "cell_type": "markdown",
   "metadata": {},
   "source": [
    "### Grid Search Practice\n",
    "\n",
    "（1）对vect\\__max_df，vect\\__max_features，vect\\__ngram_range，clf\\__C在trainingdata上进行网格搜索调参。\n",
    "\n",
    "（2）在gridsearch时使用5折交叉验证"
   ]
  },
  {
   "cell_type": "code",
   "execution_count": null,
   "metadata": {},
   "outputs": [],
   "source": []
  },
  {
   "cell_type": "markdown",
   "metadata": {},
   "source": [
    "（3）使用最优参数得到的模型，在test_filter上生成测试结果"
   ]
  },
  {
   "cell_type": "code",
   "execution_count": null,
   "metadata": {},
   "outputs": [],
   "source": []
  }
 ],
 "metadata": {
  "kernelspec": {
   "display_name": "Python 3",
   "language": "python",
   "name": "python3"
  },
  "language_info": {
   "codemirror_mode": {
    "name": "ipython",
    "version": 3
   },
   "file_extension": ".py",
   "mimetype": "text/x-python",
   "name": "python",
   "nbconvert_exporter": "python",
   "pygments_lexer": "ipython3",
   "version": "3.6.4"
  }
 },
 "nbformat": 4,
 "nbformat_minor": 2
}
